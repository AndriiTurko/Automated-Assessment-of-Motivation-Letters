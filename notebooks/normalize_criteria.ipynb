{
 "cells": [
  {
   "metadata": {
    "ExecuteTime": {
     "end_time": "2025-04-24T20:01:44.204612Z",
     "start_time": "2025-04-24T20:01:41.865052Z"
    }
   },
   "cell_type": "code",
   "source": [
    "import pandas as pd\n",
    "from features.normalize_text import normalize_text"
   ],
   "id": "a74dbe209989d61d",
   "outputs": [],
   "execution_count": 8
  },
  {
   "metadata": {
    "ExecuteTime": {
     "end_time": "2025-04-24T20:16:16.906190Z",
     "start_time": "2025-04-24T20:16:16.623271Z"
    }
   },
   "cell_type": "code",
   "source": "df = pd.read_csv('data/letters.csv')",
   "id": "a9b0080430651efb",
   "outputs": [],
   "execution_count": 21
  },
  {
   "metadata": {
    "ExecuteTime": {
     "end_time": "2025-04-24T20:16:19.371542Z",
     "start_time": "2025-04-24T20:16:19.358626Z"
    }
   },
   "cell_type": "code",
   "source": "df.head()",
   "id": "2db19eabc3e435b",
   "outputs": [
    {
     "data": {
      "text/plain": [
       "  letter_id     program average_score  mentions_average  length  \\\n",
       "0  13419416  AL Історія          11.0                 1     859   \n",
       "1  13482181  AL Історія          10.0                 0     764   \n",
       "2  13941346  AL Історія         11.18                 1     671   \n",
       "3  13541525  AL Історія             -                 1     623   \n",
       "4  13718007  AL Історія          10.9                 1     835   \n",
       "\n",
       "                                                text  \\\n",
       "0  Шановний [РЕКТОР]!\\nДоброго часу доби! Звертаю...   \n",
       "1  Від коли себе пам’ятаю, бажання навчатися саме...   \n",
       "2  Шановний пане Тарасе!\\nПісля Нового року в моє...   \n",
       "3  Шановні працівники приймальної комісії!\\nЦим л...   \n",
       "4  Шановний [РЕКТОР],\\nЗвертаюсь до Вас із прохан...   \n",
       "\n",
       "                                     normalized_text  question_1  question_2  \\\n",
       "0  шановний [ ректор ] ! \\n добрий доба ! звертат...    0.237748    0.413921   \n",
       "1  пам’ятаю , бажання навчатися історичний сфера ...    0.424150    0.340208   \n",
       "2  шановний пан тарасе ! \\n новий випускний клас ...    0.161342    0.248977   \n",
       "3  шановний працівник приймальний комісія ! \\n ли...    0.345559    0.314849   \n",
       "4  шановний [ ректор ] , \\n звертатися прохання р...    0.421712    0.480483   \n",
       "\n",
       "   question_3  question_4  question_5  question_6  \n",
       "0    0.358395    0.334940    0.201996    0.573873  \n",
       "1    0.322198    0.244855    0.208812    0.398688  \n",
       "2    0.183649    0.075651    0.336471    0.264442  \n",
       "3    0.304643    0.307151    0.309920    0.453765  \n",
       "4    0.463178    0.472411    0.317539    0.593098  "
      ],
      "text/html": [
       "<div>\n",
       "<style scoped>\n",
       "    .dataframe tbody tr th:only-of-type {\n",
       "        vertical-align: middle;\n",
       "    }\n",
       "\n",
       "    .dataframe tbody tr th {\n",
       "        vertical-align: top;\n",
       "    }\n",
       "\n",
       "    .dataframe thead th {\n",
       "        text-align: right;\n",
       "    }\n",
       "</style>\n",
       "<table border=\"1\" class=\"dataframe\">\n",
       "  <thead>\n",
       "    <tr style=\"text-align: right;\">\n",
       "      <th></th>\n",
       "      <th>letter_id</th>\n",
       "      <th>program</th>\n",
       "      <th>average_score</th>\n",
       "      <th>mentions_average</th>\n",
       "      <th>length</th>\n",
       "      <th>text</th>\n",
       "      <th>normalized_text</th>\n",
       "      <th>question_1</th>\n",
       "      <th>question_2</th>\n",
       "      <th>question_3</th>\n",
       "      <th>question_4</th>\n",
       "      <th>question_5</th>\n",
       "      <th>question_6</th>\n",
       "    </tr>\n",
       "  </thead>\n",
       "  <tbody>\n",
       "    <tr>\n",
       "      <th>0</th>\n",
       "      <td>13419416</td>\n",
       "      <td>AL Історія</td>\n",
       "      <td>11.0</td>\n",
       "      <td>1</td>\n",
       "      <td>859</td>\n",
       "      <td>Шановний [РЕКТОР]!\\nДоброго часу доби! Звертаю...</td>\n",
       "      <td>шановний [ ректор ] ! \\n добрий доба ! звертат...</td>\n",
       "      <td>0.237748</td>\n",
       "      <td>0.413921</td>\n",
       "      <td>0.358395</td>\n",
       "      <td>0.334940</td>\n",
       "      <td>0.201996</td>\n",
       "      <td>0.573873</td>\n",
       "    </tr>\n",
       "    <tr>\n",
       "      <th>1</th>\n",
       "      <td>13482181</td>\n",
       "      <td>AL Історія</td>\n",
       "      <td>10.0</td>\n",
       "      <td>0</td>\n",
       "      <td>764</td>\n",
       "      <td>Від коли себе пам’ятаю, бажання навчатися саме...</td>\n",
       "      <td>пам’ятаю , бажання навчатися історичний сфера ...</td>\n",
       "      <td>0.424150</td>\n",
       "      <td>0.340208</td>\n",
       "      <td>0.322198</td>\n",
       "      <td>0.244855</td>\n",
       "      <td>0.208812</td>\n",
       "      <td>0.398688</td>\n",
       "    </tr>\n",
       "    <tr>\n",
       "      <th>2</th>\n",
       "      <td>13941346</td>\n",
       "      <td>AL Історія</td>\n",
       "      <td>11.18</td>\n",
       "      <td>1</td>\n",
       "      <td>671</td>\n",
       "      <td>Шановний пане Тарасе!\\nПісля Нового року в моє...</td>\n",
       "      <td>шановний пан тарасе ! \\n новий випускний клас ...</td>\n",
       "      <td>0.161342</td>\n",
       "      <td>0.248977</td>\n",
       "      <td>0.183649</td>\n",
       "      <td>0.075651</td>\n",
       "      <td>0.336471</td>\n",
       "      <td>0.264442</td>\n",
       "    </tr>\n",
       "    <tr>\n",
       "      <th>3</th>\n",
       "      <td>13541525</td>\n",
       "      <td>AL Історія</td>\n",
       "      <td>-</td>\n",
       "      <td>1</td>\n",
       "      <td>623</td>\n",
       "      <td>Шановні працівники приймальної комісії!\\nЦим л...</td>\n",
       "      <td>шановний працівник приймальний комісія ! \\n ли...</td>\n",
       "      <td>0.345559</td>\n",
       "      <td>0.314849</td>\n",
       "      <td>0.304643</td>\n",
       "      <td>0.307151</td>\n",
       "      <td>0.309920</td>\n",
       "      <td>0.453765</td>\n",
       "    </tr>\n",
       "    <tr>\n",
       "      <th>4</th>\n",
       "      <td>13718007</td>\n",
       "      <td>AL Історія</td>\n",
       "      <td>10.9</td>\n",
       "      <td>1</td>\n",
       "      <td>835</td>\n",
       "      <td>Шановний [РЕКТОР],\\nЗвертаюсь до Вас із прохан...</td>\n",
       "      <td>шановний [ ректор ] , \\n звертатися прохання р...</td>\n",
       "      <td>0.421712</td>\n",
       "      <td>0.480483</td>\n",
       "      <td>0.463178</td>\n",
       "      <td>0.472411</td>\n",
       "      <td>0.317539</td>\n",
       "      <td>0.593098</td>\n",
       "    </tr>\n",
       "  </tbody>\n",
       "</table>\n",
       "</div>"
      ]
     },
     "execution_count": 22,
     "metadata": {},
     "output_type": "execute_result"
    }
   ],
   "execution_count": 22
  },
  {
   "metadata": {
    "ExecuteTime": {
     "end_time": "2025-04-24T20:30:05.911437Z",
     "start_time": "2025-04-24T20:30:05.902689Z"
    }
   },
   "cell_type": "code",
   "source": "criteria_questions_normalized = []",
   "id": "c4a79002cf0bc881",
   "outputs": [],
   "execution_count": 30
  },
  {
   "metadata": {
    "ExecuteTime": {
     "end_time": "2025-04-24T20:30:06.785700Z",
     "start_time": "2025-04-24T20:30:06.771705Z"
    }
   },
   "cell_type": "code",
   "source": [
    "program = 'program'\n",
    "\n",
    "criteria_questions = [\n",
    "    # 1\n",
    "    \"Чому Ви хочете навчатися в УКУ? Наприклад, опишіть проблему, яку Ви розв’язали чи прагнете розв’язати. \"\n",
    "    \"Це може бути інтелектуальний виклик, дослідницьке питання, етична дилема — все, на чому Вам справді залежить. \"\n",
    "    \"Поясність її важливість для Вас і які кроки Ви зробили чи плануєте зробити, щоб знайти розв’язок цієї проблеми. \"\n",
    "    f\"А також як навчання в УКУ загалом та на {program} зокрема допоможе Вам у цьому.\",\n",
    "    # 2\n",
    "    f\"Як Ви плануєте в майбутньому застосувати отриманий досвід навчання на {program}? \"\n",
    "    \"Як Ви бачите своє подальше працевлаштування / продовження навчання?\",\n",
    "    # 3\n",
    "    \"Опишіть свої слабкі та сильні сторони та як Ви використовуватимете свої переваги під час навчання на \"\n",
    "    \"бакалаврській програмі в УКУ? Зазначте середній бал вашого шкільного атестату. Чи ви вважаєте його здобутком, \"\n",
    "    \"чи Вам щось не вдалося? Чому?\",\n",
    "    # 4\n",
    "    \"Розкажіть про Ваш досвід громадської активності, волонтерства, Ваші досягнення у навчальному та \"\n",
    "    \"позанавчальному житті.\",\n",
    "    # 5\n",
    "    \"Одними із гасел нашого університету є «Свідчити. Служити. Спілкуватись». Як ви розумієте кожен з цих елементів?\"\n",
    "    \" Чим саме можна наповнити кожне із цих «С»? Як це гасло та християнські цінності перегукуються з вашим \"\n",
    "    \"особистим досвідом — поділіться ним.\",\n",
    "    # 6\n",
    "    \"Чóму саме Вас навчила війна (від 24 лютого 2022 року)? Які висновки Ви зробили? Що змінилося у Вашому світогляді?\",\n",
    "    # 7\n",
    "    f\"Чи розглядаєте Ви ще інші бакалаврські програми для вступу, окрім {program}? Якщо так, \"\n",
    "    \"то якій з них Ви надаєте більшу перевагу і чому?\"\n",
    "]"
   ],
   "id": "f1042c9f2deaa221",
   "outputs": [],
   "execution_count": 31
  },
  {
   "metadata": {
    "ExecuteTime": {
     "end_time": "2025-04-24T20:30:09.546748Z",
     "start_time": "2025-04-24T20:30:09.450605Z"
    }
   },
   "cell_type": "code",
   "source": [
    "for question in criteria_questions:\n",
    "    criteria_questions_normalized.append(normalize_text(question))"
   ],
   "id": "4138dbdacd63569c",
   "outputs": [],
   "execution_count": 32
  },
  {
   "metadata": {
    "ExecuteTime": {
     "end_time": "2025-04-24T20:30:10.822163Z",
     "start_time": "2025-04-24T20:30:10.815166Z"
    }
   },
   "cell_type": "code",
   "source": "criteria_questions_normalized",
   "id": "1875873340f0a976",
   "outputs": [
    {
     "data": {
      "text/plain": [
       "['хотіти навчатися уку ? наприклад , описати проблема , який розв’язали прагнути розв’язати . інтелектуальний виклик , дослідницький питання , етичний дилема — , справді залежати . поясність важливість крок зробити планувати зробити , знайти розв’язок проблема . навчання уку загалом program зокрема допомогти .',\n",
       " 'планувати майбутнє застосувати отриманий досвід навчання program ? бачити подальший працевлаштування / продовження навчання ?',\n",
       " 'описати слабкий сильний сторона використовуватимете перевага навчання бакалаврський програма уку ? зазначити середній бал шкільний атестату . вважати здобуток , вдатися ? ?',\n",
       " 'розказати досвід громадський активність , волонтерство , досягнення навчальний позанавчальний життя .',\n",
       " 'одними гасло університет \" свідчити . служити . спілкуватись \" . розуміти елемент ? наповнити \" с \" ? гасло християнський цінність перегукуватися особистий досвід — поділіться .',\n",
       " 'чóму навчити війна ( 24 лютий 2022 ) ? висновок зробити ? змінитися світогляд ?',\n",
       " 'розглядати бакалаврський програма вступ , program ? , надавати більший перевага ?']"
      ]
     },
     "execution_count": 33,
     "metadata": {},
     "output_type": "execute_result"
    }
   ],
   "execution_count": 33
  },
  {
   "metadata": {
    "ExecuteTime": {
     "end_time": "2025-04-24T20:16:26.274294Z",
     "start_time": "2025-04-24T20:16:26.268018Z"
    }
   },
   "cell_type": "code",
   "source": "programs_normalized = []",
   "id": "f3e3da02684cf5f3",
   "outputs": [],
   "execution_count": 23
  },
  {
   "metadata": {
    "ExecuteTime": {
     "end_time": "2025-04-24T20:16:27.363091Z",
     "start_time": "2025-04-24T20:16:27.308962Z"
    }
   },
   "cell_type": "code",
   "source": [
    "for program in df['program'].unique():\n",
    "    programs_normalized.append(normalize_text(program))"
   ],
   "id": "d611cba1e344e7d8",
   "outputs": [],
   "execution_count": 24
  },
  {
   "metadata": {
    "ExecuteTime": {
     "end_time": "2025-04-24T20:16:29.114516Z",
     "start_time": "2025-04-24T20:16:29.107410Z"
    }
   },
   "cell_type": "code",
   "source": "df['program'].unique()",
   "id": "4a10fcc27d37024a",
   "outputs": [
    {
     "data": {
      "text/plain": [
       "array(['AL Історія', 'AL Культурологія', 'AL Філологія', 'ІТ та БА ',\n",
       "       'Богослов_я', 'ЕПЕ', 'КН', 'Право', 'Психологія',\n",
       "       'Соціальна робота', 'Соціологія'], dtype=object)"
      ]
     },
     "execution_count": 25,
     "metadata": {},
     "output_type": "execute_result"
    }
   ],
   "execution_count": 25
  },
  {
   "metadata": {
    "ExecuteTime": {
     "end_time": "2025-04-24T20:16:30.992674Z",
     "start_time": "2025-04-24T20:16:30.985648Z"
    }
   },
   "cell_type": "code",
   "source": "programs_normalized",
   "id": "1ae7698dafb96c23",
   "outputs": [
    {
     "data": {
      "text/plain": [
       "['al історія',\n",
       " 'al культурологія',\n",
       " 'al філологія',\n",
       " 'іт ба',\n",
       " 'Богослов_я',\n",
       " 'епе',\n",
       " 'кн',\n",
       " 'право',\n",
       " 'психологія',\n",
       " 'соціальний робота',\n",
       " 'соціологія']"
      ]
     },
     "execution_count": 26,
     "metadata": {},
     "output_type": "execute_result"
    }
   ],
   "execution_count": 26
  },
  {
   "metadata": {
    "ExecuteTime": {
     "end_time": "2025-04-24T20:16:33.356638Z",
     "start_time": "2025-04-24T20:16:33.351225Z"
    }
   },
   "cell_type": "code",
   "source": [
    "program_normalized_map = {}\n",
    "\n",
    "for pr, pr_n in zip(df['program'].unique(), programs_normalized):\n",
    "    program_normalized_map[pr] = pr_n"
   ],
   "id": "27ea9743e9c64d8a",
   "outputs": [],
   "execution_count": 27
  },
  {
   "metadata": {
    "ExecuteTime": {
     "end_time": "2025-04-24T20:16:34.596662Z",
     "start_time": "2025-04-24T20:16:34.587620Z"
    }
   },
   "cell_type": "code",
   "source": "program_normalized_map",
   "id": "e80dbf93213fbf3d",
   "outputs": [
    {
     "data": {
      "text/plain": [
       "{'AL Історія': 'al історія',\n",
       " 'AL Культурологія': 'al культурологія',\n",
       " 'AL Філологія': 'al філологія',\n",
       " 'ІТ та БА ': 'іт ба',\n",
       " 'Богослов_я': 'Богослов_я',\n",
       " 'ЕПЕ': 'епе',\n",
       " 'КН': 'кн',\n",
       " 'Право': 'право',\n",
       " 'Психологія': 'психологія',\n",
       " 'Соціальна робота': 'соціальний робота',\n",
       " 'Соціологія': 'соціологія'}"
      ]
     },
     "execution_count": 28,
     "metadata": {},
     "output_type": "execute_result"
    }
   ],
   "execution_count": 28
  }
 ],
 "metadata": {
  "kernelspec": {
   "display_name": "Python 3",
   "language": "python",
   "name": "python3"
  },
  "language_info": {
   "codemirror_mode": {
    "name": "ipython",
    "version": 2
   },
   "file_extension": ".py",
   "mimetype": "text/x-python",
   "name": "python",
   "nbconvert_exporter": "python",
   "pygments_lexer": "ipython2",
   "version": "2.7.6"
  }
 },
 "nbformat": 4,
 "nbformat_minor": 5
}

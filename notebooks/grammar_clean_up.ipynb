{
 "cells": [
  {
   "cell_type": "code",
   "id": "initial_id",
   "metadata": {
    "collapsed": true,
    "ExecuteTime": {
     "end_time": "2025-04-27T08:34:04.757373Z",
     "start_time": "2025-04-27T08:34:04.749291Z"
    }
   },
   "source": [
    "import pandas as pd\n",
    "import json"
   ],
   "outputs": [],
   "execution_count": 2
  },
  {
   "metadata": {
    "ExecuteTime": {
     "end_time": "2025-04-27T08:37:04.362218Z",
     "start_time": "2025-04-27T08:37:03.748884Z"
    }
   },
   "cell_type": "code",
   "source": "df = pd.read_csv('../data/letters_with_grammar.csv')",
   "id": "c57951fce6977918",
   "outputs": [],
   "execution_count": 10
  },
  {
   "metadata": {
    "ExecuteTime": {
     "end_time": "2025-04-27T08:37:05.356248Z",
     "start_time": "2025-04-27T08:37:05.345144Z"
    }
   },
   "cell_type": "code",
   "source": "df['grammar_errors'].describe()",
   "id": "1f9729508c140eea",
   "outputs": [
    {
     "data": {
      "text/plain": [
       "count    1317.000000\n",
       "mean       13.003037\n",
       "std        13.116673\n",
       "min         0.000000\n",
       "25%         7.000000\n",
       "50%        11.000000\n",
       "75%        16.000000\n",
       "max       179.000000\n",
       "Name: grammar_errors, dtype: float64"
      ]
     },
     "execution_count": 11,
     "metadata": {},
     "output_type": "execute_result"
    }
   ],
   "execution_count": 11
  },
  {
   "metadata": {
    "ExecuteTime": {
     "end_time": "2025-04-27T08:34:57.588354Z",
     "start_time": "2025-04-27T08:34:57.582168Z"
    }
   },
   "cell_type": "code",
   "source": [
    "# function to remove errors with ЕПЕ word from the description\n",
    "def func(desc):\n",
    "    desc = json.loads(desc)\n",
    "    \n",
    "    for match in desc:\n",
    "        if 'епе' in match['context'].lower() and match['errorLength'] == 3:\n",
    "            desc.remove(match)\n",
    "    \n",
    "    errors = len(desc)\n",
    "    desc = json.dumps(desc)\n",
    "    return errors, desc"
   ],
   "id": "a20c4fd922186e68",
   "outputs": [],
   "execution_count": 6
  },
  {
   "metadata": {
    "ExecuteTime": {
     "end_time": "2025-04-27T08:37:12.730922Z",
     "start_time": "2025-04-27T08:37:12.331334Z"
    }
   },
   "cell_type": "code",
   "source": "df[['grammar_errors', 'grammar_errors_description']] = df['grammar_errors_description'].apply(func).apply(pd.Series)",
   "id": "1063ba4c1dc6427",
   "outputs": [],
   "execution_count": 12
  },
  {
   "metadata": {
    "ExecuteTime": {
     "end_time": "2025-04-27T08:37:18.949150Z",
     "start_time": "2025-04-27T08:37:18.940196Z"
    }
   },
   "cell_type": "code",
   "source": "df['grammar_errors'].describe()",
   "id": "4e6d0b4f7a47212d",
   "outputs": [
    {
     "data": {
      "text/plain": [
       "count    1317.000000\n",
       "mean       12.883068\n",
       "std        13.090810\n",
       "min         0.000000\n",
       "25%         6.000000\n",
       "50%        11.000000\n",
       "75%        16.000000\n",
       "max       179.000000\n",
       "Name: grammar_errors, dtype: float64"
      ]
     },
     "execution_count": 13,
     "metadata": {},
     "output_type": "execute_result"
    }
   ],
   "execution_count": 13
  },
  {
   "metadata": {
    "ExecuteTime": {
     "end_time": "2025-04-27T08:36:02.945800Z",
     "start_time": "2025-04-27T08:36:01.921037Z"
    }
   },
   "cell_type": "code",
   "source": "df.to_csv('../data/letters_with_grammar.csv', index=False)",
   "id": "932b23d9cea7f963",
   "outputs": [],
   "execution_count": 8
  }
 ],
 "metadata": {
  "kernelspec": {
   "display_name": "Python 3",
   "language": "python",
   "name": "python3"
  },
  "language_info": {
   "codemirror_mode": {
    "name": "ipython",
    "version": 2
   },
   "file_extension": ".py",
   "mimetype": "text/x-python",
   "name": "python",
   "nbconvert_exporter": "python",
   "pygments_lexer": "ipython2",
   "version": "2.7.6"
  }
 },
 "nbformat": 4,
 "nbformat_minor": 5
}
